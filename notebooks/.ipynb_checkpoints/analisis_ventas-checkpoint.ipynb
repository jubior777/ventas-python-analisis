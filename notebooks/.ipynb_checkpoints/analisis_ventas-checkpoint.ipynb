{
 "cells": [
  {
   "cell_type": "markdown",
   "id": "39f22c39",
   "metadata": {},
   "source": [
    "df = pd.read_csv('../data/ventas.csv')\n",
    "df['Fecha'] = pd.to_datetime(df['Fecha'])\n",
    "df.head()"
   ]
  },
  {
   "cell_type": "markdown",
   "id": "d234d768",
   "metadata": {},
   "source": [
    "import pandas as pd\n",
    "import matplotlib.pyplot as plt\n"
   ]
  }
 ],
 "metadata": {
  "language_info": {
   "name": "python"
  }
 },
 "nbformat": 4,
 "nbformat_minor": 5
}
